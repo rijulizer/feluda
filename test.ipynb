{
 "cells": [
  {
   "cell_type": "code",
   "execution_count": 1,
   "metadata": {},
   "outputs": [],
   "source": [
    "import pandas as pd\n",
    "import numpy as np"
   ]
  },
  {
   "cell_type": "code",
   "execution_count": 2,
   "metadata": {},
   "outputs": [
    {
     "name": "stdout",
     "output_type": "stream",
     "text": [
      "102\n"
     ]
    },
    {
     "name": "stderr",
     "output_type": "stream",
     "text": [
      "/tmp/ipykernel_14398/3678061494.py:1: DtypeWarning: Columns (7) have mixed types. Specify dtype option on import or set low_memory=False.\n",
      "  pdf = pd.read_csv('./train.csv')\n"
     ]
    },
    {
     "data": {
      "text/html": [
       "<div>\n",
       "<style scoped>\n",
       "    .dataframe tbody tr th:only-of-type {\n",
       "        vertical-align: middle;\n",
       "    }\n",
       "\n",
       "    .dataframe tbody tr th {\n",
       "        vertical-align: top;\n",
       "    }\n",
       "\n",
       "    .dataframe thead th {\n",
       "        text-align: right;\n",
       "    }\n",
       "</style>\n",
       "<table border=\"1\" class=\"dataframe\">\n",
       "  <thead>\n",
       "    <tr style=\"text-align: right;\">\n",
       "      <th></th>\n",
       "      <th>Store</th>\n",
       "      <th>Open</th>\n",
       "      <th>Promo</th>\n",
       "      <th>SchoolHoliday</th>\n",
       "      <th>cat_1</th>\n",
       "      <th>cat_2</th>\n",
       "      <th>cat_3</th>\n",
       "    </tr>\n",
       "  </thead>\n",
       "  <tbody>\n",
       "    <tr>\n",
       "      <th>104232</th>\n",
       "      <td>538</td>\n",
       "      <td>1</td>\n",
       "      <td>1</td>\n",
       "      <td>0</td>\n",
       "      <td>2</td>\n",
       "      <td>0</td>\n",
       "      <td>48</td>\n",
       "    </tr>\n",
       "    <tr>\n",
       "      <th>732436</th>\n",
       "      <td>667</td>\n",
       "      <td>1</td>\n",
       "      <td>1</td>\n",
       "      <td>0</td>\n",
       "      <td>1</td>\n",
       "      <td>16</td>\n",
       "      <td>132</td>\n",
       "    </tr>\n",
       "    <tr>\n",
       "      <th>955419</th>\n",
       "      <td>650</td>\n",
       "      <td>1</td>\n",
       "      <td>0</td>\n",
       "      <td>0</td>\n",
       "      <td>0</td>\n",
       "      <td>12</td>\n",
       "      <td>140</td>\n",
       "    </tr>\n",
       "    <tr>\n",
       "      <th>279141</th>\n",
       "      <td>826</td>\n",
       "      <td>0</td>\n",
       "      <td>0</td>\n",
       "      <td>0</td>\n",
       "      <td>1</td>\n",
       "      <td>9</td>\n",
       "      <td>102</td>\n",
       "    </tr>\n",
       "    <tr>\n",
       "      <th>72175</th>\n",
       "      <td>816</td>\n",
       "      <td>1</td>\n",
       "      <td>0</td>\n",
       "      <td>0</td>\n",
       "      <td>0</td>\n",
       "      <td>16</td>\n",
       "      <td>195</td>\n",
       "    </tr>\n",
       "  </tbody>\n",
       "</table>\n",
       "</div>"
      ],
      "text/plain": [
       "        Store  Open  Promo  SchoolHoliday  cat_1  cat_2  cat_3\n",
       "104232    538     1      1              0      2      0     48\n",
       "732436    667     1      1              0      1     16    132\n",
       "955419    650     1      0              0      0     12    140\n",
       "279141    826     0      0              0      1      9    102\n",
       "72175     816     1      0              0      0     16    195"
      ]
     },
     "execution_count": 2,
     "metadata": {},
     "output_type": "execute_result"
    }
   ],
   "source": [
    "pdf = pd.read_csv('./train.csv')\n",
    "pdf_sample = pdf.sample(frac=0.0001)\n",
    "\n",
    "len = pdf_sample.shape[0]\n",
    "pdf_sample['cat_1'] = np.random.randint(0,5,[len,])\n",
    "pdf_sample['cat_2'] = np.random.randint(0,20,[len,])\n",
    "pdf_sample['cat_3'] = np.random.randint(0,200,[len,])\n",
    "\n",
    "pdf_sample = pdf_sample.drop(columns = ['StateHoliday','Date','Sales','Customers','DayOfWeek'])\n",
    "print(len)\n",
    "pdf_sample.head()"
   ]
  },
  {
   "cell_type": "code",
   "execution_count": 3,
   "metadata": {},
   "outputs": [],
   "source": [
    "# pdf_sample.to_csv('test_data.csv')\n",
    "# pdf_sample = pd.read_csv(\"./test_data.csv\")\n",
    "# pdf_sample.show()"
   ]
  },
  {
   "cell_type": "code",
   "execution_count": 4,
   "metadata": {},
   "outputs": [
    {
     "name": "stderr",
     "output_type": "stream",
     "text": [
      "22/02/28 13:42:20 WARN Utils: Your hostname, machine resolves to a loopback address: 127.0.1.1; using 192.168.31.230 instead (on interface enp0s3)\n",
      "22/02/28 13:42:20 WARN Utils: Set SPARK_LOCAL_IP if you need to bind to another address\n",
      "22/02/28 13:42:21 WARN NativeCodeLoader: Unable to load native-hadoop library for your platform... using builtin-java classes where applicable\n",
      "Using Spark's default log4j profile: org/apache/spark/log4j-defaults.properties\n",
      "Setting default log level to \"WARN\".\n",
      "To adjust logging level use sc.setLogLevel(newLevel). For SparkR, use setLogLevel(newLevel).\n"
     ]
    }
   ],
   "source": [
    "import pyspark.sql.functions as sf\n",
    "# from pyspark.sql.types import FloatType\n",
    "from pyspark.sql import SparkSession\n",
    "spark = SparkSession.builder.getOrCreate()"
   ]
  },
  {
   "cell_type": "code",
   "execution_count": 5,
   "metadata": {},
   "outputs": [
    {
     "name": "stdout",
     "output_type": "stream",
     "text": [
      "[('Store', 'bigint'), ('Open', 'bigint'), ('Promo', 'bigint'), ('SchoolHoliday', 'bigint'), ('cat_1', 'bigint'), ('cat_2', 'bigint'), ('cat_3', 'bigint')]\n"
     ]
    },
    {
     "name": "stderr",
     "output_type": "stream",
     "text": [
      "[Stage 0:>                                                          (0 + 1) / 1]\r"
     ]
    },
    {
     "name": "stdout",
     "output_type": "stream",
     "text": [
      "+-----+----+-----+-------------+-----+-----+-----+\n",
      "|Store|Open|Promo|SchoolHoliday|cat_1|cat_2|cat_3|\n",
      "+-----+----+-----+-------------+-----+-----+-----+\n",
      "|  538|   1|    1|            0|    2|    0|   48|\n",
      "|  667|   1|    1|            0|    1|   16|  132|\n",
      "|  650|   1|    0|            0|    0|   12|  140|\n",
      "|  826|   0|    0|            0|    1|    9|  102|\n",
      "|  816|   1|    0|            0|    0|   16|  195|\n",
      "|  468|   1|    0|            0|    1|   14|  126|\n",
      "|  714|   1|    0|            0|    2|   16|   89|\n",
      "|  232|   1|    1|            1|    0|    7|  120|\n",
      "|  886|   1|    0|            0|    1|   17|   44|\n",
      "|  809|   1|    0|            0|    1|   15|  133|\n",
      "|  941|   1|    0|            0|    0|   14|  104|\n",
      "|  991|   1|    1|            1|    2|    0|   84|\n",
      "|  558|   1|    1|            0|    0|   17|   48|\n",
      "|  509|   1|    1|            1|    1|   16|  146|\n",
      "|  775|   1|    1|            0|    2|    4|   86|\n",
      "|  659|   1|    1|            0|    2|   17|   99|\n",
      "|  571|   1|    0|            0|    0|    6|   23|\n",
      "|  373|   1|    0|            0|    0|    4|  165|\n",
      "|  219|   1|    0|            1|    0|    6|  137|\n",
      "|  285|   1|    1|            0|    0|   17|  167|\n",
      "+-----+----+-----+-------------+-----+-----+-----+\n",
      "only showing top 20 rows\n",
      "\n"
     ]
    },
    {
     "name": "stderr",
     "output_type": "stream",
     "text": [
      "                                                                                \r"
     ]
    }
   ],
   "source": [
    "sdf_data = spark.createDataFrame(pdf_sample)\n",
    "print(sdf_data.dtypes)\n",
    "sdf_data.show()"
   ]
  },
  {
   "cell_type": "code",
   "execution_count": 6,
   "metadata": {},
   "outputs": [
    {
     "name": "stdout",
     "output_type": "stream",
     "text": [
      "Number of rows: 102\n",
      "Store\n"
     ]
    },
    {
     "name": "stderr",
     "output_type": "stream",
     "text": [
      "                                                                                \r"
     ]
    },
    {
     "name": "stdout",
     "output_type": "stream",
     "text": [
      "Open\n"
     ]
    },
    {
     "name": "stderr",
     "output_type": "stream",
     "text": [
      "                                                                                \r"
     ]
    },
    {
     "name": "stdout",
     "output_type": "stream",
     "text": [
      "Open falls under categorical columns\n"
     ]
    },
    {
     "name": "stderr",
     "output_type": "stream",
     "text": [
      "                                                                                \r"
     ]
    },
    {
     "name": "stdout",
     "output_type": "stream",
     "text": [
      "Promo\n"
     ]
    },
    {
     "name": "stderr",
     "output_type": "stream",
     "text": [
      "                                                                                \r"
     ]
    },
    {
     "name": "stdout",
     "output_type": "stream",
     "text": [
      "Promo falls under categorical columns\n"
     ]
    },
    {
     "name": "stderr",
     "output_type": "stream",
     "text": [
      "                                                                                \r"
     ]
    },
    {
     "name": "stdout",
     "output_type": "stream",
     "text": [
      "SchoolHoliday\n"
     ]
    },
    {
     "name": "stderr",
     "output_type": "stream",
     "text": [
      "                                                                                \r"
     ]
    },
    {
     "name": "stdout",
     "output_type": "stream",
     "text": [
      "SchoolHoliday falls under categorical columns\n"
     ]
    },
    {
     "name": "stderr",
     "output_type": "stream",
     "text": [
      "                                                                                \r"
     ]
    },
    {
     "name": "stdout",
     "output_type": "stream",
     "text": [
      "cat_1\n"
     ]
    },
    {
     "name": "stderr",
     "output_type": "stream",
     "text": [
      "                                                                                \r"
     ]
    },
    {
     "name": "stdout",
     "output_type": "stream",
     "text": [
      "cat_1 falls under categorical columns\n"
     ]
    },
    {
     "name": "stderr",
     "output_type": "stream",
     "text": [
      "                                                                                \r"
     ]
    },
    {
     "name": "stdout",
     "output_type": "stream",
     "text": [
      "cat_2\n"
     ]
    },
    {
     "name": "stderr",
     "output_type": "stream",
     "text": [
      "                                                                                \r"
     ]
    },
    {
     "name": "stdout",
     "output_type": "stream",
     "text": [
      "cat_3\n"
     ]
    },
    {
     "name": "stderr",
     "output_type": "stream",
     "text": [
      "                                                                                \r"
     ]
    }
   ],
   "source": [
    "from feluda import des\n",
    "sdf_des = des(sdf_data, 15)"
   ]
  },
  {
   "cell_type": "code",
   "execution_count": 7,
   "metadata": {},
   "outputs": [
    {
     "data": {
      "text/html": [
       "<div>\n",
       "<style scoped>\n",
       "    .dataframe tbody tr th:only-of-type {\n",
       "        vertical-align: middle;\n",
       "    }\n",
       "\n",
       "    .dataframe tbody tr th {\n",
       "        vertical-align: top;\n",
       "    }\n",
       "\n",
       "    .dataframe thead th {\n",
       "        text-align: right;\n",
       "    }\n",
       "</style>\n",
       "<table border=\"1\" class=\"dataframe\">\n",
       "  <thead>\n",
       "    <tr style=\"text-align: right;\">\n",
       "      <th></th>\n",
       "      <th>columns</th>\n",
       "      <th>fraction_nulls</th>\n",
       "      <th>unique_values</th>\n",
       "      <th>unique_value_fracs</th>\n",
       "    </tr>\n",
       "  </thead>\n",
       "  <tbody>\n",
       "    <tr>\n",
       "      <th>0</th>\n",
       "      <td>Store</td>\n",
       "      <td>0.0</td>\n",
       "      <td>100</td>\n",
       "      <td>[100]</td>\n",
       "    </tr>\n",
       "    <tr>\n",
       "      <th>1</th>\n",
       "      <td>Open</td>\n",
       "      <td>0.0</td>\n",
       "      <td>2</td>\n",
       "      <td>[0.088, 0.912]</td>\n",
       "    </tr>\n",
       "    <tr>\n",
       "      <th>2</th>\n",
       "      <td>Promo</td>\n",
       "      <td>0.0</td>\n",
       "      <td>2</td>\n",
       "      <td>[0.549, 0.451]</td>\n",
       "    </tr>\n",
       "    <tr>\n",
       "      <th>3</th>\n",
       "      <td>SchoolHoliday</td>\n",
       "      <td>0.0</td>\n",
       "      <td>2</td>\n",
       "      <td>[0.784, 0.216]</td>\n",
       "    </tr>\n",
       "    <tr>\n",
       "      <th>4</th>\n",
       "      <td>cat_1</td>\n",
       "      <td>0.0</td>\n",
       "      <td>5</td>\n",
       "      <td>[0.265, 0.216, 0.167, 0.186, 0.167]</td>\n",
       "    </tr>\n",
       "    <tr>\n",
       "      <th>5</th>\n",
       "      <td>cat_2</td>\n",
       "      <td>0.0</td>\n",
       "      <td>20</td>\n",
       "      <td>[100]</td>\n",
       "    </tr>\n",
       "    <tr>\n",
       "      <th>6</th>\n",
       "      <td>cat_3</td>\n",
       "      <td>0.0</td>\n",
       "      <td>85</td>\n",
       "      <td>[100]</td>\n",
       "    </tr>\n",
       "  </tbody>\n",
       "</table>\n",
       "</div>"
      ],
      "text/plain": [
       "         columns  fraction_nulls  unique_values  \\\n",
       "0          Store             0.0            100   \n",
       "1           Open             0.0              2   \n",
       "2          Promo             0.0              2   \n",
       "3  SchoolHoliday             0.0              2   \n",
       "4          cat_1             0.0              5   \n",
       "5          cat_2             0.0             20   \n",
       "6          cat_3             0.0             85   \n",
       "\n",
       "                    unique_value_fracs  \n",
       "0                                [100]  \n",
       "1                       [0.088, 0.912]  \n",
       "2                       [0.549, 0.451]  \n",
       "3                       [0.784, 0.216]  \n",
       "4  [0.265, 0.216, 0.167, 0.186, 0.167]  \n",
       "5                                [100]  \n",
       "6                                [100]  "
      ]
     },
     "execution_count": 7,
     "metadata": {},
     "output_type": "execute_result"
    }
   ],
   "source": [
    "sdf_des"
   ]
  },
  {
   "cell_type": "code",
   "execution_count": null,
   "metadata": {},
   "outputs": [],
   "source": []
  }
 ],
 "metadata": {
  "interpreter": {
   "hash": "5d2c7a0d76576a7bb5bd9167f7ffda687f6dce15896ef8c82256d0a2df0bf1ad"
  },
  "kernelspec": {
   "display_name": "Python 3.8.12 ('PysparkEnv')",
   "language": "python",
   "name": "python3"
  },
  "language_info": {
   "codemirror_mode": {
    "name": "ipython",
    "version": 3
   },
   "file_extension": ".py",
   "mimetype": "text/x-python",
   "name": "python",
   "nbconvert_exporter": "python",
   "pygments_lexer": "ipython3",
   "version": "3.8.12"
  },
  "orig_nbformat": 4
 },
 "nbformat": 4,
 "nbformat_minor": 2
}
